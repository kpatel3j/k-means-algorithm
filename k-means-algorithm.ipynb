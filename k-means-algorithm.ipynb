import matplotlib
import matplotlib.pyplot as plt
import numpy as np

# We start by generating some artificial data.

plt.jet() # set the color map. When your colors are lost, re-run this.
import sklearn.datasets as datasets
X, Y = datasets.make_blobs(centers=4, cluster_std=0.5, random_state=0)

# we first plot the data to get a feeling of what we're dealing with.

plt.scatter(X[:,0], X[:,1]);


# We can plot this information as well, using color.

plt.scatter(X[:,0], X[:,1], c=Y);

# try to recover the information in Y from the data alone.

from sklearn.cluster import KMeans
kmeans = KMeans(4, random_state=8)
Y_hat = kmeans.fit(X).labels_

# the label assignments should be quite similar to Y, up to a different ordering of the colors.

plt.scatter(X[:,0], X[:,1], c=Y_hat);

# to have a closer look at the means μ.

plt.scatter(X[:,0], X[:,1], c=Y_hat, alpha=0.4)
mu = kmeans.cluster_centers_
plt.scatter(mu[:,0], mu[:,1], s=100, c=np.unique(Y_hat))
print(mu)

